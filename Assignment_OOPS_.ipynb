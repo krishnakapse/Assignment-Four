{
  "nbformat": 4,
  "nbformat_minor": 0,
  "metadata": {
    "colab": {
      "provenance": []
    },
    "kernelspec": {
      "name": "python3",
      "display_name": "Python 3"
    },
    "language_info": {
      "name": "python"
    }
  },
  "cells": [
    {
      "cell_type": "markdown",
      "source": [
        "#**Assignment - OOPS**"
      ],
      "metadata": {
        "id": "FykrPOLI51Sj"
      }
    },
    {
      "cell_type": "markdown",
      "source": [
        "Q. 1 What are the five key concepts of Object-Oriented Programming (OOP)?"
      ],
      "metadata": {
        "id": "CJsKABFv5zxn"
      }
    },
    {
      "cell_type": "markdown",
      "source": [
        "**Ans:-** The five key concepts of Object-Oriented Programming (OOP) are:\n",
        "\n",
        "**1) Encapsulation** : This concept involves bundling the data (attributes) and methods (functions) that operate on the data into a single unit called a class. It restricts direct access to some of an object's components, which can prevent unintended interference and misuse.\n",
        "**Ex. Capsule (tablet)**.\n",
        "\n",
        "**2) Abstraction** : Abstraction focuses on hiding complex implementation details and showing the relevent details to user. This allows developers to interact with objects at a high level without needing to understand the underlying complexities.\n",
        "**Ex. ATM Machine**.\n",
        "\n",
        "**3) Inheritance** : Inheritance allows a new class (subclass) to inherit properties and behaviors (methods) from an existing class (superclass). This promotes code reusability and establishes a hierarchical relationship between classes.\n",
        "**Ex.Parent, Grand parent** .\n",
        "\n",
        "**4) Polymorphism** : Polymorphism enables objects of different classes to be treated as objects of a common superclass. It allows methods to do different things based on the object it is acting upon, typically implemented through method overriding and method overloading.\n",
        "**Ex.Blood Group**.\n",
        "\n",
        "**5) Composition** : Composition is a design principle where a class is composed of one or more objects from other classes, allowing for a “has-a” relationship. This promotes flexibility and reusability by enabling complex types to be built from simpler ones."
      ],
      "metadata": {
        "id": "kgAi57IC7OTz"
      }
    },
    {
      "cell_type": "markdown",
      "source": [
        "Q. 2 Write a Python class for a `Car` with attributes for `make`, `model`, and `year`. Include a method     to display the car's information.\n"
      ],
      "metadata": {
        "id": "af0MWUmk-0RJ"
      }
    },
    {
      "cell_type": "code",
      "execution_count": 2,
      "metadata": {
        "id": "eMI9MEFn5qi6"
      },
      "outputs": [],
      "source": [
        "# Ans:-\n",
        "class Car:\n",
        "    def __init__(self, make, model, year):\n",
        "        self.make = make\n",
        "        self.model = model\n",
        "        self.year = year\n",
        "\n",
        "    def Car_info(self):\n",
        "        print(f\"Car Information:\\nMake: {self.make}\\nModel: {self.model}\\nYear: {self.year}\")"
      ]
    },
    {
      "cell_type": "code",
      "source": [
        "my_car = Car(\"TATA\", \"Curvv EV\", 2024)\n",
        "my_car.Car_info()"
      ],
      "metadata": {
        "colab": {
          "base_uri": "https://localhost:8080/"
        },
        "id": "SL2WAT80_OLf",
        "outputId": "8278f7cb-e53d-45c3-c3e0-a9437f2a148e"
      },
      "execution_count": 4,
      "outputs": [
        {
          "output_type": "stream",
          "name": "stdout",
          "text": [
            "Car Information:\n",
            "Make: TATA\n",
            "Model: Curvv EV\n",
            "Year: 2024\n"
          ]
        }
      ]
    },
    {
      "cell_type": "markdown",
      "source": [
        "Q.3 Explain the difference between instance methods and class methods. Provide an example of each."
      ],
      "metadata": {
        "id": "OOUctHa4_2HT"
      }
    },
    {
      "cell_type": "markdown",
      "source": [
        "**Ans:-** **Instance Methods**:\n",
        "\n",
        "1) Are methods that belong to an instance of a class (an object)\n",
        "2)Are called on an instance of a class\n",
        "3) Have access to the instance's attributes (data)\n",
        "4) Can modify the instance's state\n",
        "5)Are typically used for actions that affect a specific instance.\n",
        "\n",
        "**Class Methods:**\n",
        "\n",
        "1)Are methods that belong to a class itself (not an instance)\n",
        "2)Are called on the class directly\n",
        "3)Have access to the class's attributes (data)\n",
        "4)Can modify the class's state\n",
        "5)Are typically used for actions that affect the class as a whole\n",
        "\n"
      ],
      "metadata": {
        "id": "GDTY9EVBAlA4"
      }
    },
    {
      "cell_type": "markdown",
      "source": [
        "Q.4 How does Python implement method overloading? Give an example."
      ],
      "metadata": {
        "id": "EWH2rFyuBWE7"
      }
    },
    {
      "cell_type": "markdown",
      "source": [
        "**Ans:-** Python does not support method overloading in the classical sense like some other languages (e.g., C++, Java). In Python, you can define a single method that can accept any number of arguments, but you can't define multiple methods with the same name and different parameters.\n",
        "\n",
        "Python provides alternative ways to achieve similar behavior:\n",
        "1) Default argument\n",
        "2) Variable arguments ( *args, **kwargs)"
      ],
      "metadata": {
        "id": "364iOHeGCIK5"
      }
    },
    {
      "cell_type": "code",
      "source": [
        "#Ex.1. Default arguments:\n",
        "\n",
        "def greet(name, msg=\"Hello\"):\n",
        "    print(f\"{msg}, {name}\")\n",
        "\n",
        "greet(\"John\")\n",
        "greet(\"John\", \"Good morning\")"
      ],
      "metadata": {
        "colab": {
          "base_uri": "https://localhost:8080/"
        },
        "id": "UVacuX3Y_g6h",
        "outputId": "87bf1a78-2bab-47a4-80d3-c70faa0434a7"
      },
      "execution_count": 5,
      "outputs": [
        {
          "output_type": "stream",
          "name": "stdout",
          "text": [
            "Hello, John\n",
            "Good morning, John\n"
          ]
        }
      ]
    },
    {
      "cell_type": "code",
      "source": [
        "#Ex.2. Variable arguments (*args, **kwargs):\n",
        "\n",
        "def greet(*args):\n",
        "    if len(args) == 1:\n",
        "        print(f\"Hello, {args[0]}\")\n",
        "    elif len(args) == 2:\n",
        "        print(f\"{args[0]}, {args[1]}\")\n",
        "\n",
        "greet(\"John\")\n",
        "greet(\"Good morning\", \"John\")\n",
        "\n"
      ],
      "metadata": {
        "colab": {
          "base_uri": "https://localhost:8080/"
        },
        "id": "G-UjQ6G0Cfwq",
        "outputId": "775c12d3-f654-4f85-ab1b-fff5a3477a4d"
      },
      "execution_count": 6,
      "outputs": [
        {
          "output_type": "stream",
          "name": "stdout",
          "text": [
            "Hello, John\n",
            "Good morning, John\n"
          ]
        }
      ]
    },
    {
      "cell_type": "markdown",
      "source": [
        "Q.5 What are the three types of access modifiers in Python? How are they denoted."
      ],
      "metadata": {
        "id": "yKr8akG5DL1h"
      }
    },
    {
      "cell_type": "markdown",
      "source": [
        "**Ans:-** In Python, there are three types of access modifiers: public, protected, and private. These access modifiers control the visibility and accessibility of class attributes and methods\n",
        "\n",
        "1. Public:\n",
        "Description: Public members (attributes or methods) can be accessed from anywhere, inside or outside the class.\n",
        "Denoted by: No special prefix. The name is written as usual.\n",
        "2. Protected:\n",
        "Description: Protected members are intended to be accessible only within the class and its subclasses. However, they can still be accessed outside the class, though it's not recommended.\n",
        "Denoted by: A single underscore (_) before the attribute or method name.\n",
        "3. Private:\n",
        "Description: Private members are intended to be accessible only within the class that defines them. They are not accessible directly from outside the class. Python achieves this by name mangling.\n",
        "Denoted by: A double underscore (__) before the attribute or method name.\n",
        "Ex.\n"
      ],
      "metadata": {
        "id": "ZwpISMGCDXXp"
      }
    },
    {
      "cell_type": "code",
      "source": [
        "#ex. public, protected,private\n",
        "class MyClass:\n",
        "    def __init__(self):\n",
        "        self.public_attr = \"Public\"\n",
        "        self._protected_attr = \"Protected\"\n",
        "        self.__private_attr = \"Private\"\n",
        "\n",
        "    def public_method(self):\n",
        "        print(\"My Name is Krishna.\")\n",
        "\n",
        "    def _protected_method(self):\n",
        "        print(\"I am From India.\")\n",
        "\n",
        "    def __Private_Method(self):\n",
        "        print(\"In India From Maharashtra.\")\n"
      ],
      "metadata": {
        "id": "DIsvq2CZDJM1"
      },
      "execution_count": 16,
      "outputs": []
    },
    {
      "cell_type": "code",
      "source": [
        "kri = MyClass()"
      ],
      "metadata": {
        "id": "gfmNQv_DFh36"
      },
      "execution_count": 8,
      "outputs": []
    },
    {
      "cell_type": "code",
      "source": [
        "kri.public_method()\n"
      ],
      "metadata": {
        "colab": {
          "base_uri": "https://localhost:8080/"
        },
        "id": "sxQ48bhyFqWf",
        "outputId": "eeb9fb31-08f4-483f-9fd1-5d990dc27bf1"
      },
      "execution_count": 10,
      "outputs": [
        {
          "output_type": "stream",
          "name": "stdout",
          "text": [
            "My Name is Krishna.\n"
          ]
        }
      ]
    },
    {
      "cell_type": "code",
      "source": [
        "kri._protected_method()"
      ],
      "metadata": {
        "colab": {
          "base_uri": "https://localhost:8080/"
        },
        "id": "gv7487esFuzz",
        "outputId": "3347318e-7fac-4b85-e815-0b0a1e854638"
      },
      "execution_count": 11,
      "outputs": [
        {
          "output_type": "stream",
          "name": "stdout",
          "text": [
            "I am From India.\n"
          ]
        }
      ]
    },
    {
      "cell_type": "markdown",
      "source": [
        "Q6- Describe the five types of inheritance in Python. Provide a simple example of multiple inheritance."
      ],
      "metadata": {
        "id": "SU-a3ErEHn5V"
      }
    },
    {
      "cell_type": "markdown",
      "source": [
        "**Ans:-**\n",
        "1. Single Inheritance\n",
        "A child class inherits from a single parent class.\n",
        "2. Multiple Inheritance\n",
        "A child class inherits from more than one parent class. The child class inherits attributes and methods from all the parent classes.\n",
        "3. Multilevel Inheritance\n",
        "A child class inherits from a parent class, and another child class inherits from this child class. This forms a chain of inheritance.\n",
        "4. Hierarchical Inheritance\n",
        "Multiple child classes inherit from the same parent class.\n",
        "5. Hybrid Inheritance\n",
        "A combination of multiple types of inheritance, such as multilevel and multiple inheritance.\n",
        "Ex.Multiple Inheritance\n"
      ],
      "metadata": {
        "id": "7QxVKwAfH0_D"
      }
    },
    {
      "cell_type": "code",
      "source": [
        "# ex.Multiple Inheritance\n",
        "class grandfather:\n",
        "  def grandfather_property(self):\n",
        "    print(\"GFather property\")\n",
        "class father(grandfather):\n",
        "  def father_property(self):\n",
        "    print(\"Father property,GFather prop\")\n",
        "class son(father):\n",
        "  def son_property(self):\n",
        "    print(\"Son property,Father prop,GFather prop\")\n",
        "#ex.\n",
        "son = son()\n",
        "son.grandfather_property()\n",
        "son.father_property()\n",
        "son.son_property()\n",
        ""
      ],
      "metadata": {
        "colab": {
          "base_uri": "https://localhost:8080/"
        },
        "id": "LsS2PoKCHKSL",
        "outputId": "44b92bb3-fd47-4688-fdec-bf5df33b52d1"
      },
      "execution_count": 19,
      "outputs": [
        {
          "output_type": "stream",
          "name": "stdout",
          "text": [
            "GFather property\n",
            "Father property,GFather prop\n",
            "Son property,Father prop,GFather prop\n"
          ]
        }
      ]
    },
    {
      "cell_type": "markdown",
      "source": [
        "Q. 7 7. What is the Method Resolution Order (MRO) in Python? How can you retrieve it programmatically.\n"
      ],
      "metadata": {
        "id": "xSWRsDd9KVeG"
      }
    },
    {
      "cell_type": "markdown",
      "source": [
        "**Ans:-** The Method Resolution Order (MRO) in Python is the order in which base classes are searched for a member (method or attribute) during lookup. It's used to avoid the \"diamond problem\" in multiple inheritance.\n",
        "\n",
        "it occurs when a class inherits from 2 or more than 2 class.\n",
        "\n",
        "it will lead to ambiguity in execution of methods.\n",
        "\n",
        "to remove diamond problem>> python uses method resolution order(MRO) algorithm called C3 linearization.\n"
      ],
      "metadata": {
        "id": "m-V2XdwdKfNn"
      }
    },
    {
      "cell_type": "code",
      "source": [
        "#ex.\n",
        "class parentclass1:\n",
        "  def method_p(self):\n",
        "    print(\"This is parentclass1\")\n",
        "class parentclass2:\n",
        "  def method_p(self):\n",
        "    print(\"This is parentclass2\")\n",
        "class childclass(parentclass1,parentclass2):\n",
        "  def method(self):\n",
        "    print(\"child class\")\n",
        "\n",
        "\n",
        "c2 = childclass()\n",
        "c2.method()\n",
        "c2.method_p()# in diamond problem it takes output from parentclass1"
      ],
      "metadata": {
        "colab": {
          "base_uri": "https://localhost:8080/"
        },
        "id": "B_WpvbsWJKP4",
        "outputId": "348f018e-f949-4494-8b81-f9c381b209bf"
      },
      "execution_count": 21,
      "outputs": [
        {
          "output_type": "stream",
          "name": "stdout",
          "text": [
            "child class\n",
            "This is parentclass1\n"
          ]
        }
      ]
    },
    {
      "cell_type": "markdown",
      "source": [
        "Q. 8 Create an abstract base class Shape with an abstract method area(). Then create two subclasses Circle and Rectangle that implement the area() method."
      ],
      "metadata": {
        "id": "U7K8fOQiLDC5"
      }
    },
    {
      "cell_type": "markdown",
      "source": [
        "**Ans:-** Here's how you can create an abstract base class Shape with an abstract method area(), and then create two subclasses, Circle and Rectangle, that implement the area() method.\n",
        "\n",
        " 1: Create the Abstract Base Class:-\n",
        "You will use the abc module to define the abstract base class.\n",
        "\n",
        " 2: Create Subclasses:-Now, implement the Circle and Rectangle classes that inherit from Shape and define the area() method.\n",
        "\n",
        " 3: Example Usage:-You can now create instances of Circle and Rectangle and call their area() methods.\n",
        "\n",
        " Ex."
      ],
      "metadata": {
        "id": "ZY3a2_IgL7V9"
      }
    },
    {
      "cell_type": "code",
      "source": [
        "# Ex.\n",
        "from abc import ABC, abstractmethod\n",
        "\n",
        "class Shape(ABC):\n",
        "    @abstractmethod\n",
        "    def area(self):\n",
        "        pass\n",
        "\n",
        "class Circle(Shape):\n",
        "    def __init__(self, radius):\n",
        "        self.radius = radius\n",
        "\n",
        "    def area(self):\n",
        "        return 3.14 * (self.radius ** 2)\n",
        "\n",
        "class Rectangle(Shape):\n",
        "    def __init__(self, width, height):\n",
        "        self.width = width\n",
        "        self.height = height\n",
        "\n",
        "    def area(self):\n",
        "        return self.width * self.height\n"
      ],
      "metadata": {
        "id": "OxBjNfM4K6Dj"
      },
      "execution_count": 25,
      "outputs": []
    },
    {
      "cell_type": "code",
      "source": [
        "circle = Circle(23)\n",
        "print(f\"Area of the circle: {circle.area():.2f}\")\n",
        "\n",
        "rectangle = Rectangle(45, 76)\n",
        "print(f\"Area of the rectangle: {rectangle.area()}\")"
      ],
      "metadata": {
        "colab": {
          "base_uri": "https://localhost:8080/"
        },
        "id": "bCT4ROMNNSWv",
        "outputId": "525552ee-4b32-47ea-f2f2-ac52f8cf1553"
      },
      "execution_count": 26,
      "outputs": [
        {
          "output_type": "stream",
          "name": "stdout",
          "text": [
            "Area of the circle: 1661.06\n",
            "Area of the rectangle: 3420\n"
          ]
        }
      ]
    },
    {
      "cell_type": "markdown",
      "source": [
        "Q. 9 Demonstrate polymorphism by creating a function that can work with different shape objects to calculate and print their areas.\n"
      ],
      "metadata": {
        "id": "5LyAKIL2Ocm5"
      }
    },
    {
      "cell_type": "markdown",
      "source": [
        "**Ans:-** Polymorphism in Python allows you to write a function that can interact with different    objects in the same way, as long as these objects share a common interface (such as a method). In the case of shapes, the area() method is implemented differently for each shape, but the function can call area() on any shape object, regardless of its type.\n",
        "Let's demonstrate polymorphism with a function that accepts any object that implements the area() method (like Circle and Rectangle) and calculates and prints their areas."
      ],
      "metadata": {
        "id": "7JrVMQKfPg1O"
      }
    },
    {
      "cell_type": "code",
      "source": [
        "# ex.\n",
        "def calculate_area(shape):\n",
        "    print(f\"Area of {type(shape).__name__}: {shape.area()}\")\n",
        "\n",
        "circle = Circle(34)\n",
        "rectangle = Rectangle(84, 36)\n",
        "\n",
        "calculate_area(circle)\n",
        "calculate_area(rectangle)"
      ],
      "metadata": {
        "colab": {
          "base_uri": "https://localhost:8080/"
        },
        "id": "JsapMaebOUw6",
        "outputId": "9eb5c0e1-6b0d-4879-a2f1-b0cba7bbf65b"
      },
      "execution_count": 28,
      "outputs": [
        {
          "output_type": "stream",
          "name": "stdout",
          "text": [
            "Area of Circle: 3629.84\n",
            "Area of Rectangle: 3024\n"
          ]
        }
      ]
    },
    {
      "cell_type": "markdown",
      "source": [
        "Q. 10  Implement encapsulation in a `BankAccount` class with private attributes for `balance` and `account_number`. Include methods for deposit, withdrawal, and balance inquiry.\n"
      ],
      "metadata": {
        "id": "nh92_W-lPpgG"
      }
    },
    {
      "cell_type": "code",
      "source": [
        "# ex.\n",
        "class BankAccount:\n",
        "    def __init__(self, account_number, initial_balance=0):\n",
        "        self.__account_number = account_number  # Private attribute\n",
        "        self.__balance = initial_balance         # Private attribute\n",
        "\n",
        "    def deposit(self, amount):\n",
        "        if amount > 0:\n",
        "            self.__balance += amount\n",
        "            print(f\"Deposited: RS.{amount:.2f}\")\n",
        "        else:\n",
        "            print(\"Deposit amount must be positive.\")\n",
        "\n",
        "    def withdraw(self, amount):\n",
        "        if 0 < amount <= self.__balance:\n",
        "            self.__balance -= amount\n",
        "            print(f\"Withdrew: RS.{amount:.2f}\")\n",
        "        else:\n",
        "            print(\"Invalid withdrawal amount.\")\n",
        "\n",
        "    def get_balance(self):\n",
        "        return self.__balance\n",
        "\n",
        "    def get_account_number(self):\n",
        "        return self.__account_number"
      ],
      "metadata": {
        "id": "5oCYckgePXm1"
      },
      "execution_count": 32,
      "outputs": []
    },
    {
      "cell_type": "code",
      "source": [
        "if __name__ == \"__main__\":\n",
        "    account = BankAccount(\"1239\", 1011)\n",
        "\n",
        "    print(f\"Account Number: {account.get_account_number()}\")\n",
        "    print(f\"Initial Balance: RS.{account.get_balance():.2f}\")\n",
        "\n",
        "    account.deposit(556)\n",
        "    print(f\"New Balance: RS.{account.get_balance():.2f}\")\n",
        "\n",
        "    account.withdraw(245)\n",
        "    print(f\"New Balance: RS.{account.get_balance():.2f}\")\n",
        "\n",
        ""
      ],
      "metadata": {
        "colab": {
          "base_uri": "https://localhost:8080/"
        },
        "id": "PPGudn-DQLkr",
        "outputId": "98e0a4ed-8bbc-4191-9906-b1e6eb020101"
      },
      "execution_count": 33,
      "outputs": [
        {
          "output_type": "stream",
          "name": "stdout",
          "text": [
            "Account Number: 1239\n",
            "Initial Balance: RS.1011.00\n",
            "Deposited: RS.556.00\n",
            "New Balance: RS.1567.00\n",
            "Withdrew: RS.245.00\n",
            "New Balance: RS.1322.00\n"
          ]
        }
      ]
    },
    {
      "cell_type": "markdown",
      "source": [
        "Q. 11 Write a class that overrides the __str__ and __add__ magic methods. What will these methods allow you to do?"
      ],
      "metadata": {
        "id": "DKFwHRjgQ_qf"
      }
    },
    {
      "cell_type": "code",
      "source": [
        "# Ex.\n",
        "class Vector:\n",
        "    def __init__(self, x, y):\n",
        "        self.x = x\n",
        "        self.y = y\n",
        "\n",
        "    def __str__(self):\n",
        "        return f\"({self.x}, {self.y})\"\n",
        "\n",
        "    def __add__(self, other):\n",
        "        return Vector(self.x + other.x, self.y + other.y)\n"
      ],
      "metadata": {
        "id": "KhrwJ57UQhv0"
      },
      "execution_count": 34,
      "outputs": []
    },
    {
      "cell_type": "code",
      "source": [
        "v1 = Vector(52, 32)\n",
        "v2 = Vector(94, 15)\n"
      ],
      "metadata": {
        "id": "ft-KCs94RZUl"
      },
      "execution_count": 35,
      "outputs": []
    },
    {
      "cell_type": "code",
      "source": [
        "print(v1)\n",
        "print(v1+v2)\n"
      ],
      "metadata": {
        "colab": {
          "base_uri": "https://localhost:8080/"
        },
        "id": "RJ4byShRRiqR",
        "outputId": "a623f433-0462-428a-8e3a-6b2f50ed4d69"
      },
      "execution_count": 41,
      "outputs": [
        {
          "output_type": "stream",
          "name": "stdout",
          "text": [
            "(52, 32)\n",
            "(146, 47)\n"
          ]
        }
      ]
    },
    {
      "cell_type": "markdown",
      "source": [
        "Q.12 Create a decorator that measures and prints the execution time of a function."
      ],
      "metadata": {
        "id": "ZAXf6A2jRwAG"
      }
    },
    {
      "cell_type": "code",
      "source": [
        "#ex.\n",
        "import time\n",
        "\n",
        "def timer_decorator(func):\n",
        "    def wrapper(*args, **kwargs):\n",
        "        start_time = time.time()\n",
        "        result = func(*args, **kwargs)\n",
        "        end_time = time.time()\n",
        "        print(f\"Function {func.__name__} took {end_time - start_time:.2f} seconds to execute.\")\n",
        "        return result\n",
        "    return wrapper\n"
      ],
      "metadata": {
        "id": "T6XDUP6YRtd-"
      },
      "execution_count": 42,
      "outputs": []
    },
    {
      "cell_type": "code",
      "source": [
        "@timer_decorator\n",
        "def my_function(x=10):\n",
        "    pass"
      ],
      "metadata": {
        "id": "yE00bl7PTNCB"
      },
      "execution_count": 44,
      "outputs": []
    },
    {
      "cell_type": "code",
      "source": [
        "result = my_function()"
      ],
      "metadata": {
        "colab": {
          "base_uri": "https://localhost:8080/"
        },
        "id": "MHMnZMWTTsG4",
        "outputId": "fcfa854f-cdeb-463b-d804-c720e5d467e0"
      },
      "execution_count": 45,
      "outputs": [
        {
          "output_type": "stream",
          "name": "stdout",
          "text": [
            "Function my_function took 0.00 seconds to execute.\n"
          ]
        }
      ]
    },
    {
      "cell_type": "markdown",
      "source": [
        "Q. 13 Explain the concept of the Diamond Problem in multiple inheritance. How does Python resolve it?"
      ],
      "metadata": {
        "id": "OdbLEC53T8ta"
      }
    },
    {
      "cell_type": "markdown",
      "source": [
        "**Ans:-** The Diamond Problem is a common issue that arises in object-oriented programming languages that support multiple inheritance. It occurs when a class inherits from two classes that both inherit from a common superclass, creating a diamond-shaped inheritance diagram.\n",
        "\n",
        "it occurs when a class inherits from 2 or more than 2 class.\n",
        "\n",
        "it will lead to ambiguity in execution of methods.\n",
        "\n",
        "to remove diamond problem>> python uses method resolution order(MRO) algorithm called C3 linearization."
      ],
      "metadata": {
        "id": "CrWA-OfkUhJZ"
      }
    },
    {
      "cell_type": "code",
      "source": [
        "# ex.\n",
        "class parentclass1:\n",
        "  def method_p(self):\n",
        "    print(\"This is parentclass1\")\n",
        "class parentclass2:\n",
        "  def method_p(self):\n",
        "    print(\"This is parentclass2\")\n",
        "class childclass(parentclass1,parentclass2):\n",
        "  def method(self):\n",
        "    print(\"child class\")"
      ],
      "metadata": {
        "id": "QYRNAGLhT3VR"
      },
      "execution_count": 46,
      "outputs": []
    },
    {
      "cell_type": "code",
      "source": [
        "c2 = childclass()\n",
        "c2.method()\n",
        "c2.method_p()# in diamond problem it takes output from parentclass1"
      ],
      "metadata": {
        "colab": {
          "base_uri": "https://localhost:8080/"
        },
        "id": "BKiQtWKiUy2J",
        "outputId": "45fbedf8-bb8e-45d8-dbc5-126aa9913855"
      },
      "execution_count": 47,
      "outputs": [
        {
          "output_type": "stream",
          "name": "stdout",
          "text": [
            "child class\n",
            "This is parentclass1\n"
          ]
        }
      ]
    },
    {
      "cell_type": "markdown",
      "source": [
        "Q. 14 Write a class method that keeps track of the number of instances created from a class.\n"
      ],
      "metadata": {
        "id": "_ZqlJfx8U65K"
      }
    },
    {
      "cell_type": "code",
      "source": [
        "# ex.\n",
        "class InstanceTracker:\n",
        "    _instance_count = 0\n",
        "\n",
        "    def __init__(self):\n",
        "        InstanceTracker._instance_count += 1\n",
        "\n",
        "    @classmethod\n",
        "    def get_instance_count(cls):\n",
        "        return cls._instance_count\n"
      ],
      "metadata": {
        "id": "PXh26fMOU3X7"
      },
      "execution_count": 48,
      "outputs": []
    },
    {
      "cell_type": "code",
      "source": [
        "print(InstanceTracker.get_instance_count())\n",
        "\n",
        "instance1 = InstanceTracker()\n",
        "print(InstanceTracker.get_instance_count())\n",
        "\n",
        "instance2 = InstanceTracker()\n",
        "print(InstanceTracker.get_instance_count())"
      ],
      "metadata": {
        "colab": {
          "base_uri": "https://localhost:8080/"
        },
        "id": "YZ5No6pRVlzD",
        "outputId": "4985f3cc-39d4-48ad-f5cf-df6275b6cdeb"
      },
      "execution_count": 49,
      "outputs": [
        {
          "output_type": "stream",
          "name": "stdout",
          "text": [
            "0\n",
            "1\n",
            "2\n"
          ]
        }
      ]
    },
    {
      "cell_type": "markdown",
      "source": [
        "Q. 15 Implement a static method in a class that checks if a given year is a leap year.\n"
      ],
      "metadata": {
        "id": "eughhigSVxHg"
      }
    },
    {
      "cell_type": "code",
      "source": [
        "# ex.\n",
        "class LeapYearChecker:\n",
        "    @staticmethod\n",
        "    def is_leap_year(year):\n",
        "        return year % 4 == 0 and (year % 100 != 0 or year % 400 == 0)\n"
      ],
      "metadata": {
        "id": "SN6bb0EpVvIJ"
      },
      "execution_count": 50,
      "outputs": []
    },
    {
      "cell_type": "code",
      "source": [
        "print(LeapYearChecker.is_leap_year(2020))\n",
        "print(LeapYearChecker.is_leap_year(2021))\n",
        "print(LeapYearChecker.is_leap_year(2024))\n"
      ],
      "metadata": {
        "colab": {
          "base_uri": "https://localhost:8080/"
        },
        "id": "qDHBsGmjWJt9",
        "outputId": "826b06d4-f316-4ea2-b742-d06ceb6d27d7"
      },
      "execution_count": 52,
      "outputs": [
        {
          "output_type": "stream",
          "name": "stdout",
          "text": [
            "True\n",
            "False\n",
            "True\n"
          ]
        }
      ]
    }
  ]
}